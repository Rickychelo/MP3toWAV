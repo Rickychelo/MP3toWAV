{
  "cells": [
    {
      "cell_type": "code",
      "execution_count": 1,
      "metadata": {
        "colab": {
          "base_uri": "https://localhost:8080/"
        },
        "id": "Bk7DJlhZcwFM",
        "outputId": "ecb56b01-6c1b-4bd7-cb67-31f1354cb645"
      },
      "outputs": [
        {
          "name": "stdout",
          "output_type": "stream",
          "text": [
            "Requirement already satisfied: pydub in c:\\python311\\lib\\site-packages (0.25.1)\n",
            "Note: you may need to restart the kernel to use updated packages.\n"
          ]
        },
        {
          "name": "stderr",
          "output_type": "stream",
          "text": [
            "DEPRECATION: Loading egg at c:\\python311\\lib\\site-packages\\vboxapi-1.0-py3.11.egg is deprecated. pip 23.3 will enforce this behaviour change. A possible replacement is to use pip for package installation..\n",
            "\n",
            "[notice] A new release of pip is available: 23.2.1 -> 23.3.2\n",
            "[notice] To update, run: python.exe -m pip install --upgrade pip\n"
          ]
        }
      ],
      "source": [
        "pip install pydub"
      ]
    },
    {
      "cell_type": "code",
      "execution_count": 2,
      "metadata": {
        "colab": {
          "base_uri": "https://localhost:8080/"
        },
        "id": "qRZUQkqwdQVt",
        "outputId": "909c5591-b89e-4993-dc91-01f418b7ae88"
      },
      "outputs": [
        {
          "name": "stdout",
          "output_type": "stream",
          "text": [
            "Collecting simpleaudio\n",
            "  Using cached simpleaudio-1.0.4.tar.gz (2.0 MB)\n",
            "  Installing build dependencies: started\n",
            "  Installing build dependencies: finished with status 'done'\n",
            "  Getting requirements to build wheel: started\n",
            "  Getting requirements to build wheel: finished with status 'done'\n",
            "  Preparing metadata (pyproject.toml): started\n",
            "  Preparing metadata (pyproject.toml): finished with status 'done'\n",
            "Building wheels for collected packages: simpleaudio\n",
            "  Building wheel for simpleaudio (pyproject.toml): started\n",
            "  Building wheel for simpleaudio (pyproject.toml): finished with status 'error'\n",
            "Failed to build simpleaudio\n",
            "Note: you may need to restart the kernel to use updated packages.\n"
          ]
        },
        {
          "name": "stderr",
          "output_type": "stream",
          "text": [
            "DEPRECATION: Loading egg at c:\\python311\\lib\\site-packages\\vboxapi-1.0-py3.11.egg is deprecated. pip 23.3 will enforce this behaviour change. A possible replacement is to use pip for package installation..\n",
            "  error: subprocess-exited-with-error\n",
            "  \n",
            "  × Building wheel for simpleaudio (pyproject.toml) did not run successfully.\n",
            "  │ exit code: 1\n",
            "  ╰─> [18 lines of output]\n",
            "      running bdist_wheel\n",
            "      running build\n",
            "      running build_py\n",
            "      creating build\n",
            "      creating build\\lib.win-amd64-cpython-311\n",
            "      creating build\\lib.win-amd64-cpython-311\\simpleaudio\n",
            "      copying simpleaudio\\__init__.py -> build\\lib.win-amd64-cpython-311\\simpleaudio\n",
            "      copying simpleaudio\\shiny.py -> build\\lib.win-amd64-cpython-311\\simpleaudio\n",
            "      copying simpleaudio\\functionchecks.py -> build\\lib.win-amd64-cpython-311\\simpleaudio\n",
            "      creating build\\lib.win-amd64-cpython-311\\simpleaudio\\test_audio\n",
            "      copying simpleaudio\\test_audio\\c.wav -> build\\lib.win-amd64-cpython-311\\simpleaudio\\test_audio\n",
            "      copying simpleaudio\\test_audio\\e.wav -> build\\lib.win-amd64-cpython-311\\simpleaudio\\test_audio\n",
            "      copying simpleaudio\\test_audio\\g.wav -> build\\lib.win-amd64-cpython-311\\simpleaudio\\test_audio\n",
            "      copying simpleaudio\\test_audio\\left_right.wav -> build\\lib.win-amd64-cpython-311\\simpleaudio\\test_audio\n",
            "      copying simpleaudio\\test_audio\\notes_2_16_44.wav -> build\\lib.win-amd64-cpython-311\\simpleaudio\\test_audio\n",
            "      running build_ext\n",
            "      building 'simpleaudio._simpleaudio' extension\n",
            "      error: Microsoft Visual C++ 14.0 or greater is required. Get it with \"Microsoft C++ Build Tools\": https://visualstudio.microsoft.com/visual-cpp-build-tools/\n",
            "      [end of output]\n",
            "  \n",
            "  note: This error originates from a subprocess, and is likely not a problem with pip.\n",
            "  ERROR: Failed building wheel for simpleaudio\n",
            "ERROR: Could not build wheels for simpleaudio, which is required to install pyproject.toml-based projects\n",
            "\n",
            "[notice] A new release of pip is available: 23.2.1 -> 23.3.2\n",
            "[notice] To update, run: python.exe -m pip install --upgrade pip\n"
          ]
        }
      ],
      "source": [
        "pip install simpleaudio"
      ]
    },
    {
      "cell_type": "code",
      "execution_count": 3,
      "metadata": {
        "id": "GCy1iW7rcph2"
      },
      "outputs": [
        {
          "name": "stderr",
          "output_type": "stream",
          "text": [
            "c:\\Python311\\Lib\\site-packages\\pydub\\utils.py:170: RuntimeWarning: Couldn't find ffmpeg or avconv - defaulting to ffmpeg, but may not work\n",
            "  warn(\"Couldn't find ffmpeg or avconv - defaulting to ffmpeg, but may not work\", RuntimeWarning)\n"
          ]
        },
        {
          "ename": "ModuleNotFoundError",
          "evalue": "No module named 'simpleaudio'",
          "output_type": "error",
          "traceback": [
            "\u001b[1;31m---------------------------------------------------------------------------\u001b[0m",
            "\u001b[1;31mModuleNotFoundError\u001b[0m                       Traceback (most recent call last)",
            "Cell \u001b[1;32mIn[3], line 2\u001b[0m\n\u001b[0;32m      1\u001b[0m \u001b[38;5;28;01mfrom\u001b[39;00m \u001b[38;5;21;01mpydub\u001b[39;00m \u001b[38;5;28;01mimport\u001b[39;00m AudioSegment\n\u001b[1;32m----> 2\u001b[0m \u001b[38;5;28;01mimport\u001b[39;00m \u001b[38;5;21;01msimpleaudio\u001b[39;00m \u001b[38;5;28;01mas\u001b[39;00m \u001b[38;5;21;01msa\u001b[39;00m\n",
            "\u001b[1;31mModuleNotFoundError\u001b[0m: No module named 'simpleaudio'"
          ]
        }
      ],
      "source": [
        "from pydub import AudioSegment\n",
        "import simpleaudio as sa"
      ]
    },
    {
      "cell_type": "code",
      "execution_count": 4,
      "metadata": {
        "id": "Gq4tUwLlcrce"
      },
      "outputs": [],
      "source": [
        "def convert_mp3_to_wav(mp3_path, wav_path):\n",
        "    audio = AudioSegment.from_mp3(mp3_path)\n",
        "    audio.export(wav_path, format=\"wav\")\n"
      ]
    },
    {
      "cell_type": "code",
      "execution_count": 12,
      "metadata": {
        "id": "WISHHqOJdYEq"
      },
      "outputs": [],
      "source": [
        "def play_wav(wav_path):\n",
        "    wave_obj = sa.WaveObject.from_wave_file(wav_path)\n",
        "    play_obj = wave_obj.play()\n",
        "    play_obj.wait_done()"
      ]
    },
    {
      "cell_type": "code",
      "execution_count": 8,
      "metadata": {
        "id": "gH50EJDacsnW"
      },
      "outputs": [
        {
          "ename": "SyntaxError",
          "evalue": "(unicode error) 'unicodeescape' codec can't decode bytes in position 2-3: truncated \\UXXXXXXXX escape (3629280918.py, line 2)",
          "output_type": "error",
          "traceback": [
            "\u001b[1;36m  Cell \u001b[1;32mIn[8], line 2\u001b[1;36m\u001b[0m\n\u001b[1;33m    convert_mp3_to_wav(\"C:\\Users\\Ricardo\\Documents\\Code\\PythonCodes\\Pompeii.mp3\" , \"output1.wav\")\u001b[0m\n\u001b[1;37m                                                                                 ^\u001b[0m\n\u001b[1;31mSyntaxError\u001b[0m\u001b[1;31m:\u001b[0m (unicode error) 'unicodeescape' codec can't decode bytes in position 2-3: truncated \\UXXXXXXXX escape\n"
          ]
        }
      ],
      "source": [
        "# Uso\n",
        "convert_mp3_to_wav(\"C:\\Users\\Ricardo\\Documents\\Code\\PythonCodes\\Pompeii.mp3\" , \"output1.wav\")"
      ]
    }
  ],
  "metadata": {
    "colab": {
      "provenance": []
    },
    "kernelspec": {
      "display_name": "Python 3",
      "name": "python3"
    },
    "language_info": {
      "name": "python",
      "version": "3.11.4"
    }
  },
  "nbformat": 4,
  "nbformat_minor": 0
}
